{
 "cells": [
  {
   "cell_type": "code",
   "execution_count": 6,
   "id": "6a3a67ed",
   "metadata": {},
   "outputs": [],
   "source": [
    "import requests"
   ]
  },
  {
   "cell_type": "code",
   "execution_count": 2,
   "id": "e5bc0fa9",
   "metadata": {},
   "outputs": [],
   "source": [
    "def search_gutenberg_book(book_title):\n",
    "    url = f'https://gutendex.com/books/?search={book_title}'\n",
    "    response = requests.get(url)\n",
    "\n",
    "    if response.status_code == 200:\n",
    "        search_results = response.json()[\"results\"]\n",
    "        return search_results\n",
    "    else:\n",
    "        print(f\"Error: Unable to search for the book '{book_title}'\")\n",
    "        return None"
   ]
  },
  {
   "cell_type": "code",
   "execution_count": 62,
   "id": "5049ccee",
   "metadata": {},
   "outputs": [],
   "source": [
    "def get_gutenberg_book(book_id):\n",
    "    url = f'http://www.gutenberg.org/cache/epub/{book_id}/pg{book_id}.txt'\n",
    "    response = requests.get(url)\n",
    "\n",
    "    if response.status_code == 200:\n",
    "        it = response.iter_lines()\n",
    "        lines = L([])\n",
    "        while True:\n",
    "            try:\n",
    "                lines.append(next(it).decode('utf-8-sig'))\n",
    "            except StopIteration:\n",
    "                break\n",
    "        return lines\n",
    "    print(f\"Error: Unable to download book with ID {book_id}\")"
   ]
  },
  {
   "cell_type": "code",
   "execution_count": 63,
   "id": "ac726eb0",
   "metadata": {},
   "outputs": [],
   "source": [
    "book_title = \"accounting\"\n",
    "search_results = L(search_gutenberg_book(book_title))"
   ]
  },
  {
   "cell_type": "code",
   "execution_count": 64,
   "id": "1c3dc8f3",
   "metadata": {},
   "outputs": [
    {
     "data": {
      "text/plain": [
       "{'id': 70367,\n",
       " 'title': 'Accounting theory and practice, Volume 1 (of 3) : $b a textbook for colleges and schools of business administration',\n",
       " 'authors': [{'name': 'Kester, Roy B. (Roy Bernard)',\n",
       "   'birth_year': 1882,\n",
       "   'death_year': 1965}],\n",
       " 'translators': [],\n",
       " 'subjects': ['Accounting'],\n",
       " 'bookshelves': [],\n",
       " 'languages': ['en'],\n",
       " 'copyright': False,\n",
       " 'media_type': 'Text',\n",
       " 'formats': {'image/jpeg': 'https://www.gutenberg.org/cache/epub/70367/pg70367.cover.medium.jpg',\n",
       "  'application/rdf+xml': 'https://www.gutenberg.org/ebooks/70367.rdf',\n",
       "  'text/plain': 'https://www.gutenberg.org/ebooks/70367.txt.utf-8',\n",
       "  'application/x-mobipocket-ebook': 'https://www.gutenberg.org/ebooks/70367.kf8.images',\n",
       "  'application/epub+zip': 'https://www.gutenberg.org/ebooks/70367.epub3.images',\n",
       "  'text/html': 'https://www.gutenberg.org/ebooks/70367.html.images',\n",
       "  'application/octet-stream': 'https://www.gutenberg.org/files/70367/70367-0.zip',\n",
       "  'text/plain; charset=us-ascii': 'https://www.gutenberg.org/files/70367/70367-0.txt'},\n",
       " 'download_count': 511}"
      ]
     },
     "execution_count": 64,
     "metadata": {},
     "output_type": "execute_result"
    }
   ],
   "source": [
    "search_results[0]"
   ]
  },
  {
   "cell_type": "code",
   "execution_count": 65,
   "id": "2bf46e11",
   "metadata": {},
   "outputs": [],
   "source": [
    "res = search_results.map(lambda x: (x[\"id\"], x[\"authors\"][0][\"name\"], x[\"title\"]))"
   ]
  },
  {
   "cell_type": "code",
   "execution_count": 66,
   "id": "8bd5db57",
   "metadata": {},
   "outputs": [],
   "source": [
    "book_id = res[0][0]"
   ]
  },
  {
   "cell_type": "code",
   "execution_count": 67,
   "id": "188a38b6",
   "metadata": {},
   "outputs": [],
   "source": [
    "book_text = get_gutenberg_book(book_id)"
   ]
  },
  {
   "cell_type": "code",
   "execution_count": 69,
   "id": "3baf06df",
   "metadata": {},
   "outputs": [
    {
     "data": {
      "text/plain": [
       "fastcore.foundation.L"
      ]
     },
     "execution_count": 69,
     "metadata": {},
     "output_type": "execute_result"
    }
   ],
   "source": [
    "L"
   ]
  },
  {
   "cell_type": "code",
   "execution_count": null,
   "id": "a3ff61ab",
   "metadata": {},
   "outputs": [],
   "source": []
  }
 ],
 "metadata": {
  "kernelspec": {
   "display_name": "Python 3 (ipykernel)",
   "language": "python",
   "name": "python3"
  },
  "language_info": {
   "codemirror_mode": {
    "name": "ipython",
    "version": 3
   },
   "file_extension": ".py",
   "mimetype": "text/x-python",
   "name": "python",
   "nbconvert_exporter": "python",
   "pygments_lexer": "ipython3",
   "version": "3.10.9"
  }
 },
 "nbformat": 4,
 "nbformat_minor": 5
}
