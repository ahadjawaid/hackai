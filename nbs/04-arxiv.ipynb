{
 "cells": [
  {
   "cell_type": "code",
   "execution_count": 233,
   "id": "1ea83a9a",
   "metadata": {
    "scrolled": true
   },
   "outputs": [],
   "source": [
    "import os\n",
    "import arxiv\n",
    "import requests\n",
    "import pdfplumber\n",
    "import PyPDF2\n",
    "\n",
    "from io import BytesIO\n",
    "from fastai.data.all import *\n",
    "# !pip install lxml"
   ]
  },
  {
   "cell_type": "code",
   "execution_count": 265,
   "id": "79d63f97",
   "metadata": {},
   "outputs": [],
   "source": [
    "def search_papers(title, max_results = 10):\n",
    "    search_query = f'ti:\"{title}\"'\n",
    "    results = arxiv.Search(query=search_query, max_results=max_results).results()\n",
    "    content =  L(results).map(lambda x: (x.title, x.pdf_url, L(x.authors).map(\n",
    "                             lambda x: x.name)))\n",
    "    return content\n",
    "\n",
    "def download_pdf(pdf_url):\n",
    "    response = requests.get(pdf_url)\n",
    "    return response.content\n",
    "\n",
    "def remove_non_printable(text):\n",
    "    text = re.sub(r'[^\\x20-\\x7E]', ' ', text)\n",
    "    text = re.sub(r'<[^>]+>', '', text)\n",
    "    return text\n",
    "\n",
    "def pdf_to_text(pdf_content):\n",
    "    pdf = PyPDF2.PdfReader(BytesIO(content))\n",
    "    page_text = \"\"\n",
    "    for page in pdf.pages:\n",
    "        page_text += remove_non_printable(page.extract_text())\n",
    "    return page_text"
   ]
  },
  {
   "cell_type": "code",
   "execution_count": 235,
   "id": "327a7fd0",
   "metadata": {},
   "outputs": [],
   "source": [
    "title = \"attention is all you need\"\n",
    "search_results = search_papers(title)"
   ]
  },
  {
   "cell_type": "code",
   "execution_count": 236,
   "id": "b6772964",
   "metadata": {},
   "outputs": [],
   "source": [
    "pdf_url = search_results[0][1]"
   ]
  },
  {
   "cell_type": "code",
   "execution_count": 237,
   "id": "be72a0d4",
   "metadata": {},
   "outputs": [],
   "source": [
    "content = download_paper(pdf_url)"
   ]
  },
  {
   "cell_type": "code",
   "execution_count": 264,
   "id": "dfcdcbc4",
   "metadata": {},
   "outputs": [],
   "source": [
    "text = pdf_to_text(content)"
   ]
  },
  {
   "cell_type": "code",
   "execution_count": null,
   "id": "92cbdabe",
   "metadata": {},
   "outputs": [],
   "source": []
  },
  {
   "cell_type": "code",
   "execution_count": null,
   "id": "5426cbc4",
   "metadata": {},
   "outputs": [],
   "source": []
  }
 ],
 "metadata": {
  "kernelspec": {
   "display_name": "Python 3 (ipykernel)",
   "language": "python",
   "name": "python3"
  },
  "language_info": {
   "codemirror_mode": {
    "name": "ipython",
    "version": 3
   },
   "file_extension": ".py",
   "mimetype": "text/x-python",
   "name": "python",
   "nbconvert_exporter": "python",
   "pygments_lexer": "ipython3",
   "version": "3.10.9"
  }
 },
 "nbformat": 4,
 "nbformat_minor": 5
}
